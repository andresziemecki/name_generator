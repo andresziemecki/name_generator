{
 "cells": [
  {
   "cell_type": "code",
   "execution_count": 15,
   "id": "44915efd",
   "metadata": {},
   "outputs": [],
   "source": [
    "import numpy as np\n",
    "import random\n",
    "import sys\n",
    "import io\n",
    "import os\n",
    "#os.environ['TF_CPP_MIN_LOG_LEVEL'] = '1'\n",
    "#os.environ[\"CUDA_VISIBLE_DEVICES\"]=\"-1\"   \n",
    "import tensorflow as tf \n",
    "from keras.callbacks import LambdaCallback\n",
    "from keras.optimizers import RMSprop\n",
    "from keras.models import Sequential\n",
    "from keras.layers import Dense\n",
    "from keras.layers import LSTM\n"
   ]
  },
  {
   "cell_type": "code",
   "execution_count": 2,
   "id": "aa3e2f20",
   "metadata": {},
   "outputs": [],
   "source": [
    "path = 'english.txt'\n",
    "with io.open(path, encoding='utf-8') as f:\n",
    "    text = f.read().lower()"
   ]
  },
  {
   "cell_type": "code",
   "execution_count": 3,
   "id": "d99c02a6",
   "metadata": {},
   "outputs": [
    {
     "name": "stdout",
     "output_type": "stream",
     "text": [
      "total chars: 27\n",
      "['\\n', 'a', 'b', 'c', 'd', 'e', 'f', 'g', 'h', 'i', 'j', 'k', 'l', 'm', 'n', 'o', 'p', 'q', 'r', 's', 't', 'u', 'v', 'w', 'x', 'y', 'z']\n"
     ]
    }
   ],
   "source": [
    "chars = sorted(list(set(text)))\n",
    "print('total chars:', len(chars))\n",
    "print(chars)"
   ]
  },
  {
   "cell_type": "code",
   "execution_count": 4,
   "id": "ddddb7cd",
   "metadata": {},
   "outputs": [],
   "source": [
    "text = text.replace(\"'\", \"\")"
   ]
  },
  {
   "cell_type": "code",
   "execution_count": 5,
   "id": "8fca226c",
   "metadata": {},
   "outputs": [
    {
     "name": "stdout",
     "output_type": "stream",
     "text": [
      "{'\\n': 0, 'a': 1, 'b': 2, 'c': 3, 'd': 4, 'e': 5, 'f': 6, 'g': 7, 'h': 8, 'i': 9, 'j': 10, 'k': 11, 'l': 12, 'm': 13, 'n': 14, 'o': 15, 'p': 16, 'q': 17, 'r': 18, 's': 19, 't': 20, 'u': 21, 'v': 22, 'w': 23, 'x': 24, 'y': 25, 'z': 26}\n"
     ]
    }
   ],
   "source": [
    "char_indices = dict((c, i) for i, c in enumerate(chars))\n",
    "indices_char = dict((i, c) for i, c in enumerate(chars))\n",
    "\n",
    "print(char_indices)"
   ]
  },
  {
   "cell_type": "code",
   "execution_count": 6,
   "id": "b784e3db",
   "metadata": {},
   "outputs": [
    {
     "name": "stdout",
     "output_type": "stream",
     "text": [
      "number of lines: 370103\n"
     ]
    }
   ],
   "source": [
    "lines = text.split('\\n')\n",
    "lines = [line for line in lines if len(line)!=0]\n",
    "print(\"number of lines:\", len(lines))"
   ]
  },
  {
   "cell_type": "code",
   "execution_count": 7,
   "id": "a5e2f364",
   "metadata": {},
   "outputs": [
    {
     "name": "stdout",
     "output_type": "stream",
     "text": [
      "line with longest length: 31\n",
      "line with shorter length: 1\n"
     ]
    }
   ],
   "source": [
    "maxlen = len(max(lines, key=len))\n",
    "minlen = len(min(lines, key=len))\n",
    "\n",
    "print(\"line with longest length: \"+ str(maxlen))\n",
    "print(\"line with shorter length: \"+ str(minlen))"
   ]
  },
  {
   "cell_type": "code",
   "execution_count": 8,
   "id": "922caab1",
   "metadata": {},
   "outputs": [],
   "source": [
    "steps = 1\n",
    "sequences = []\n",
    "next_chars = []\n",
    "\n",
    "for line in lines:\n",
    "    # pre-padding with zeros\n",
    "    s = (maxlen - len(line))*'0' + line\n",
    "    sequences.append(s)\n",
    "    next_chars.append('\\n')\n",
    "    for it,j in enumerate(line):\n",
    "        if (it >= len(line)-1):\n",
    "            continue\n",
    "        s = (maxlen - len(line[:-1-it]))*'0' + line[:-1-it]\n",
    "        sequences.append(s)\n",
    "        next_chars.append(line[-1-it])"
   ]
  },
  {
   "cell_type": "code",
   "execution_count": 9,
   "id": "bd0e0353",
   "metadata": {},
   "outputs": [
    {
     "name": "stdout",
     "output_type": "stream",
     "text": [
      "total sequences: 3494697\n",
      "00000000000000000000000aardwolf \n",
      "\n",
      "000000000000000000000000aardwol f\n",
      "0000000000000000000000000aardwo l\n"
     ]
    }
   ],
   "source": [
    "print('total sequences:', len(sequences))\n",
    "print(sequences[66], next_chars[66])\n",
    "print(sequences[67], next_chars[67])\n",
    "print(sequences[68], next_chars[68])"
   ]
  },
  {
   "cell_type": "code",
   "execution_count": 10,
   "id": "0a5c0738",
   "metadata": {},
   "outputs": [],
   "source": [
    "x = np.zeros((len(sequences), maxlen, len(chars)), dtype=bool)\n",
    "y = np.zeros((len(sequences), len(chars)), dtype=bool)\n",
    "for i, seq in enumerate(sequences):\n",
    "    for t, char in enumerate(seq):\n",
    "        if char != '0':\n",
    "            x[i, t, char_indices[char]] = 1\n",
    "    y[i, char_indices[next_chars[i]]] = 1"
   ]
  },
  {
   "cell_type": "code",
   "execution_count": 11,
   "id": "2279d821",
   "metadata": {},
   "outputs": [
    {
     "name": "stdout",
     "output_type": "stream",
     "text": [
      "[[0 0 0 0 0 0 0 0 0 0 0 0 0 0 0 0 0 0 0 0 0 0 0 0 0 0 0]\n",
      " [0 1 0 0 0 0 0 0 0 0 0 0 0 0 0 0 0 0 0 0 0 0 0 0 0 0 0]\n",
      " [0 1 0 0 0 0 0 0 0 0 0 0 0 0 0 0 0 0 0 0 0 0 0 0 0 0 0]\n",
      " [0 0 0 0 0 0 0 0 0 0 0 0 0 0 0 0 0 0 1 0 0 0 0 0 0 0 0]\n",
      " [0 0 0 0 1 0 0 0 0 0 0 0 0 0 0 0 0 0 0 0 0 0 0 0 0 0 0]]\n"
     ]
    }
   ],
   "source": [
    "print(x[70][-5:]*1)"
   ]
  },
  {
   "cell_type": "code",
   "execution_count": 12,
   "id": "10479b3d",
   "metadata": {},
   "outputs": [
    {
     "name": "stdout",
     "output_type": "stream",
     "text": [
      "[0 0 0 0 0 0 0 0 0 0 0 0 0 0 0 0 0 0 0 0 0 0 0 1 0 0 0]\n"
     ]
    }
   ],
   "source": [
    "print(y[70]*1)"
   ]
  },
  {
   "cell_type": "code",
   "execution_count": 13,
   "id": "8de74c8c",
   "metadata": {},
   "outputs": [],
   "source": [
    "prefix = \"\"\n",
    "max_names = 10\n",
    "\n",
    "def sample(preds):\n",
    "    \"\"\" function that sample an index from a probability array \"\"\"\n",
    "    preds = np.asarray(preds).astype('float64')\n",
    "    preds = preds / np.sum(preds)\n",
    "    probas = np.random.multinomial(1, preds, 1)\n",
    "    return np.random.choice(range(len(chars)), p = probas.ravel())\n",
    "\n",
    "def print_name_generated(name):\n",
    "    print(name, flush=True)\n",
    "def print_list_generated(lst):\n",
    "    print(lst, flush=True)\n",
    "    \n",
    "    \n",
    "def generate_new_names(*args):\n",
    "    print(\"----------Generatinig names----------\")\n",
    "\n",
    "    # Add pre-padding of zeros in the input.\n",
    "    sequence = ('{0:0>' + str(maxlen) + '}').format(prefix).lower()\n",
    "\n",
    "    # tmp variables\n",
    "    tmp_generated = prefix\n",
    "    list_outputs = list()\n",
    "\n",
    "    while (len(list_outputs) < max_names):\n",
    "\n",
    "        # Vectorize the input of the model.\n",
    "        x_pred = np.zeros((1, maxlen, len(chars)))\n",
    "        for t, char in enumerate(sequence):\n",
    "            if char != '0':\n",
    "                x_pred[0, t, char_indices[char]] = 1\n",
    "\n",
    "        # Predict the probabilities of the next char.\n",
    "        preds = model.predict(x_pred, verbose=0)[0]\n",
    "\n",
    "        # Chose one based on the distribution obtained in the output of the model.\n",
    "        next_index = sample(preds)\n",
    "        # Get the corresponding char.\n",
    "        next_char = indices_char[next_index]\n",
    "\n",
    "        # If the char is a new line character or the name start to be bigger than the longest word, \n",
    "        # try to add it to the list and reset temp variables.\n",
    "        if next_char == '\\n' or len(tmp_generated) > maxlen:\n",
    "            \n",
    "            # If the name generated is not in the list, append it and print it.\n",
    "            if tmp_generated not in list_outputs:\n",
    "                list_outputs.append(tmp_generated)\n",
    "                print_name_generated(tmp_generated)\n",
    "            # Reset tmp variables\n",
    "            sequence = ('{0:0>' + str(maxlen) + '}').format(prefix).lower()\n",
    "            tmp_generated = prefix\n",
    "        else:\n",
    "    \n",
    "            # Append the char to the sequence that we're generating.\n",
    "            tmp_generated += next_char\n",
    "            # Add pre-padding of zeros to the sequence generated and continue.\n",
    "            sequence = ('{0:0>' + str(maxlen) + '}').format(tmp_generated).lower()\n",
    "            \n",
    "    # Show the intersection of the words generated and your dataset. . \n",
    "    print(\"Set of words already in the dataset:\")\n",
    "    print_list_generated(set(lines).intersection(list_outputs))\n",
    "    \n",
    "    # Show the rate of how many repeated words you've created.\n",
    "    total_repited = len(set(lines).intersection(list_outputs))\n",
    "    total = len(list_outputs)\n",
    "    print(\"Rate of total invented words: \" + \"{:.2f}\".format((total-total_repited)/total))\n",
    "    print(\"-----------------End-----------------\")\n",
    "    \n",
    "# Function invoked at the end of each epoch. Prints generated names.\n",
    "callback = LambdaCallback(on_epoch_end=generate_new_names)"
   ]
  },
  {
   "cell_type": "code",
   "execution_count": 16,
   "id": "4dd36cbe",
   "metadata": {},
   "outputs": [
    {
     "name": "stderr",
     "output_type": "stream",
     "text": [
      "WARNING:absl:At this time, the v2.11+ optimizer `tf.keras.optimizers.RMSprop` runs slowly on M1/M2 Macs, please use the legacy Keras optimizer instead, located at `tf.keras.optimizers.legacy.RMSprop`.\n",
      "WARNING:absl:`lr` is deprecated in Keras optimizer, please use `learning_rate` or use the legacy optimizer, e.g.,tf.keras.optimizers.legacy.RMSprop.\n",
      "WARNING:absl:There is a known slowdown when using v2.11+ Keras optimizers on M1/M2 Macs. Falling back to the legacy Keras optimizer, i.e., `tf.keras.optimizers.legacy.RMSprop`.\n"
     ]
    },
    {
     "name": "stdout",
     "output_type": "stream",
     "text": [
      "Epoch 1/2\n",
      "----------Generatinig names----------\n",
      "orteacal\n",
      "ernifolmiatory\n",
      "unpronial\n",
      "accramator\n",
      "uncoosflector\n",
      "unsenems\n",
      "aeastrahabslaulity\n",
      "unprogneaces\n",
      "lavi\n",
      "incosmanthy\n",
      "Set of words already in the dataset:\n",
      "set()\n",
      "Rate of total invented words: 1.00\n",
      "-----------------End-----------------\n",
      "27303/27303 - 404s - loss: 2.0901 - 404s/epoch - 15ms/step\n",
      "Epoch 2/2\n",
      "----------Generatinig names----------\n",
      "uninrectiveness\n",
      "glasinal\n",
      "unworedows\n",
      "disanclyboth\n",
      "incarebade\n",
      "quilalite\n",
      "qureened\n",
      "abalslite\n",
      "contradia\n",
      "unfu\n",
      "Set of words already in the dataset:\n",
      "set()\n",
      "Rate of total invented words: 1.00\n",
      "-----------------End-----------------\n",
      "27303/27303 - 394s - loss: 1.9339 - 394s/epoch - 14ms/step\n"
     ]
    }
   ],
   "source": [
    "# build and train the model\n",
    "model = Sequential()\n",
    "model.add(LSTM(64, input_shape=(maxlen, len(chars))))\n",
    "model.add(Dense(len(chars), activation='softmax'))\n",
    "model.compile(loss='categorical_crossentropy', optimizer=RMSprop(lr=0.01))\n",
    "history = model.fit(x, y, batch_size=128, epochs=2, verbose=2, callbacks=[callback])"
   ]
  },
  {
   "cell_type": "code",
   "execution_count": 19,
   "id": "76c996d2",
   "metadata": {},
   "outputs": [
    {
     "name": "stdout",
     "output_type": "stream",
     "text": [
      "----------Generatinig names----------\n",
      "tripineticular\n",
      "tripipic\n",
      "tripagal\n",
      "triping\n",
      "tripodeol\n",
      "tripobulate\n",
      "tripthystchem\n",
      "triphon\n",
      "triperaris\n",
      "triproselian\n",
      "tripterness\n",
      "tripphermatic\n",
      "triploot\n",
      "tripraccially\n",
      "tripeptotists\n",
      "tripe\n",
      "tripagus\n",
      "tripornal\n",
      "triplacitis\n",
      "tripomous\n",
      "triper\n",
      "tripachalist\n",
      "tripploin\n",
      "tripatomy\n",
      "tripable\n",
      "trippult\n",
      "tripatic\n",
      "triphotymac\n",
      "tripanpocystic\n",
      "tript\n",
      "tripered\n",
      "tripshinks\n",
      "tripterous\n",
      "tripate\n",
      "triphoscopytele\n",
      "triple\n",
      "tripin\n",
      "tripholosurdom\n",
      "tripust\n",
      "trippies\n",
      "tripassiline\n",
      "triplifes\n",
      "triplohess\n",
      "trips\n",
      "triplofer\n",
      "tripina\n",
      "triptophragy\n",
      "tripsthol\n",
      "triplicatives\n",
      "triponyme\n",
      "triplevates\n",
      "triproschper\n",
      "tripitated\n",
      "triperrop\n",
      "tripletic\n",
      "tripolytria\n",
      "tripankings\n",
      "trippement\n",
      "tripassal\n",
      "triphors\n",
      "triptiquen\n",
      "tripted\n",
      "triphies\n",
      "tripaltia\n",
      "triphort\n",
      "tripobliencic\n",
      "triplevy\n",
      "triprococky\n",
      "tripkitinose\n",
      "triputer\n",
      "tripologness\n",
      "trippiest\n",
      "tripat\n",
      "tripsy\n",
      "tripables\n",
      "tripterian\n",
      "triplantholog\n",
      "tripodaceas\n",
      "tripus\n",
      "trippers\n",
      "tripsyge\n",
      "trippio\n",
      "tripinaldative\n",
      "tripnocus\n",
      "triphs\n",
      "tripteroid\n",
      "triptth\n",
      "triplaxe\n",
      "triprigeonal\n",
      "tripealizes\n",
      "tripsulace\n",
      "tripocargidie\n",
      "tripstractor\n",
      "trippest\n",
      "triproscic\n",
      "triphyle\n",
      "tripalitea\n",
      "triplizorthy\n",
      "tripatal\n",
      "tripsyxoches\n",
      "Set of words already in the dataset:\n",
      "{'tripterous', 'trippers', 'tripe', 'tript', 'trips', 'triple'}\n",
      "Rate of total invented words: 0.94\n",
      "-----------------End-----------------\n"
     ]
    }
   ],
   "source": [
    "# Insert a prefix of the name you'd like to generate \n",
    "# (it could be empty)\n",
    "prefix = \"trip\"\n",
    "# Insert how many names you'd like to generate.\n",
    "max_names = 100\n",
    "\n",
    "generate_new_names()"
   ]
  },
  {
   "cell_type": "markdown",
   "id": "5548216b",
   "metadata": {},
   "source": []
  },
  {
   "cell_type": "markdown",
   "id": "9fe7c133",
   "metadata": {},
   "source": [
    "# Names Generation given a suffix"
   ]
  },
  {
   "cell_type": "code",
   "execution_count": 23,
   "id": "490182fc",
   "metadata": {},
   "outputs": [],
   "source": [
    "# Reverse the text\n",
    "lines = [line[::-1] for line in lines]\n",
    "\n",
    "# Print the reversed names generated splited\n",
    "def print_name_generated(name):\n",
    "    print(name[::-1], flush=True)\n",
    "def print_list_generated(lst):\n",
    "    print([l[::-1] for l in lst], flush=True)"
   ]
  },
  {
   "cell_type": "code",
   "execution_count": 24,
   "id": "a35702cb",
   "metadata": {},
   "outputs": [
    {
     "name": "stderr",
     "output_type": "stream",
     "text": [
      "WARNING:absl:At this time, the v2.11+ optimizer `tf.keras.optimizers.RMSprop` runs slowly on M1/M2 Macs, please use the legacy Keras optimizer instead, located at `tf.keras.optimizers.legacy.RMSprop`.\n",
      "WARNING:absl:`lr` is deprecated in Keras optimizer, please use `learning_rate` or use the legacy optimizer, e.g.,tf.keras.optimizers.legacy.RMSprop.\n",
      "WARNING:absl:There is a known slowdown when using v2.11+ Keras optimizers on M1/M2 Macs. Falling back to the legacy Keras optimizer, i.e., `tf.keras.optimizers.legacy.RMSprop`.\n"
     ]
    },
    {
     "name": "stdout",
     "output_type": "stream",
     "text": [
      "Epoch 1/2\n",
      "----------Generatinig names----------\n",
      "galoyane\n",
      "gacutator\n",
      "sucorpar\n",
      "overcalanger\n",
      "riti\n",
      "dextlikes\n",
      "ilinchmer\n",
      "peromagential\n",
      "ponticustical\n",
      "talinschilitica\n",
      "Set of words already in the dataset:\n",
      "[]\n",
      "Rate of total invented words: 1.00\n",
      "-----------------End-----------------\n",
      "27303/27303 - 386s - loss: 2.1391 - 386s/epoch - 14ms/step\n",
      "Epoch 2/2\n",
      "----------Generatinig names----------\n",
      "naskic\n",
      "slaheed\n",
      "fuscene\n",
      "hagilening\n",
      "taglow\n",
      "prauser\n",
      "irerou\n",
      "everisyx\n",
      "apcopetenty\n",
      "haastoid\n",
      "Set of words already in the dataset:\n",
      "[]\n",
      "Rate of total invented words: 1.00\n",
      "-----------------End-----------------\n",
      "27303/27303 - 372s - loss: 1.9825 - 372s/epoch - 14ms/step\n"
     ]
    }
   ],
   "source": [
    "steps = 1\n",
    "sequences = []\n",
    "next_chars = []\n",
    "\n",
    "for line in lines:\n",
    "    # pre-padding with zeros\n",
    "    s = (maxlen - len(line))*'0' + line\n",
    "    sequences.append(s)\n",
    "    next_chars.append('\\n')\n",
    "    for it,j in enumerate(line):\n",
    "        if (it >= len(line)-1):\n",
    "            continue\n",
    "        s = (maxlen - len(line[:-1-it]))*'0' + line[:-1-it]\n",
    "        sequences.append(s)\n",
    "        next_chars.append(line[-1-it])\n",
    "        \n",
    "x = np.zeros((len(sequences), maxlen, len(chars)), dtype=bool)\n",
    "y = np.zeros((len(sequences), len(chars)), dtype=bool)\n",
    "for i, seq in enumerate(sequences):\n",
    "    for t, char in enumerate(seq):\n",
    "        if char != '0':\n",
    "            x[i, t, char_indices[char]] = 1\n",
    "    y[i, char_indices[next_chars[i]]] = 1\n",
    "\n",
    "prefix = \"\"\n",
    "max_names = 10\n",
    "    \n",
    "model = Sequential()\n",
    "model.add(LSTM(64, input_shape=(maxlen, len(chars))))\n",
    "model.add(Dense(len(chars), activation='softmax'))\n",
    "model.compile(loss='categorical_crossentropy', optimizer=RMSprop(lr=0.01))\n",
    "history = model.fit(x, y, batch_size=128, epochs=2, verbose=2, callbacks=[callback])"
   ]
  },
  {
   "cell_type": "code",
   "execution_count": 25,
   "id": "063382f6",
   "metadata": {},
   "outputs": [
    {
     "name": "stdout",
     "output_type": "stream",
     "text": [
      "----------Generatinig names----------\n",
      "logestrip\n",
      "gueastrip\n",
      "cistrip\n",
      "tountrip\n",
      "eeinsotrip\n",
      "ifferstrip\n",
      "extencetrip\n",
      "tasphetrip\n",
      "trip\n",
      "timestrip\n",
      "insatrip\n",
      "kstrip\n",
      "folkstrip\n",
      "nonanstrip\n",
      "ritestrip\n",
      "blatetrip\n",
      "imngstrip\n",
      "profectrip\n",
      "laushtrip\n",
      "coterstrip\n",
      "maritatrip\n",
      "strip\n",
      "outetrip\n",
      "mastrip\n",
      "magestrip\n",
      "ansmasstrip\n",
      "sqfookstrip\n",
      "hillowneestrip\n",
      "blutchtrip\n",
      "senstrip\n",
      "dimlarbardgetrip\n",
      "rerimmesstrip\n",
      "torestrip\n",
      "bernorstrip\n",
      "postrip\n",
      "boftrip\n",
      "pmenstrip\n",
      "tltrip\n",
      "neftrip\n",
      "musketrip\n",
      "geatrip\n",
      "estrip\n",
      "fitherstrip\n",
      "matrip\n",
      "auletrip\n",
      "opstrip\n",
      "guastrip\n",
      "unminetrip\n",
      "multrip\n",
      "forkstrip\n",
      "lameretrip\n",
      "trotrip\n",
      "stotrip\n",
      "instrip\n",
      "multoframitclatitrip\n",
      "lahtrip\n",
      "atoristrip\n",
      "genilishtrip\n",
      "hantertrip\n",
      "fushtrip\n",
      "stindertrip\n",
      "shastrip\n",
      "trinastrip\n",
      "nestrip\n",
      "testrip\n",
      "manstrip\n",
      "proottrip\n",
      "dienstrip\n",
      "giestrip\n",
      "lapstrip\n",
      "udstrip\n",
      "crontrip\n",
      "seastrip\n",
      "outtrip\n",
      "sartrip\n",
      "appenstrip\n",
      "dennanstrip\n",
      "ginkstrip\n",
      "unstrip\n",
      "unorinserstrip\n",
      "monotratrip\n",
      "spovertrip\n",
      "rightrip\n",
      "pichopashtrip\n",
      "belebordouketrip\n",
      "toltrip\n",
      "pircoustrip\n",
      "fushestrip\n",
      "tagnoptrip\n",
      "mostrip\n",
      "mundertrip\n",
      "marstrip\n",
      "vagithtrip\n",
      "conficlestrip\n",
      "jolsetrip\n",
      "fightrip\n",
      "fettrip\n",
      "interstrip\n",
      "grematotrip\n",
      "morthtrip\n",
      "Set of words already in the dataset:\n",
      "['trip', 'strip', 'unstrip']\n",
      "Rate of total invented words: 0.97\n",
      "-----------------End-----------------\n"
     ]
    }
   ],
   "source": [
    "# Insert a suffix of your business name (could be empty):\n",
    "suffix = \"trip\"\n",
    "# Insert how many names you'd like to generate:\n",
    "max_names = 100\n",
    "\n",
    "# This reverse the prefix \n",
    "prefix = suffix[::-1]\n",
    "generate_new_names()\n",
    "# later, it will be reversed again in the print function"
   ]
  },
  {
   "cell_type": "code",
   "execution_count": null,
   "id": "13888ca3",
   "metadata": {},
   "outputs": [],
   "source": []
  }
 ],
 "metadata": {
  "kernelspec": {
   "display_name": "Python 3 (ipykernel)",
   "language": "python",
   "name": "python3"
  },
  "language_info": {
   "codemirror_mode": {
    "name": "ipython",
    "version": 3
   },
   "file_extension": ".py",
   "mimetype": "text/x-python",
   "name": "python",
   "nbconvert_exporter": "python",
   "pygments_lexer": "ipython3",
   "version": "3.10.1"
  }
 },
 "nbformat": 4,
 "nbformat_minor": 5
}
